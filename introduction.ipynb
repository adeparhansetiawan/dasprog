{
 "cells": [
  {
   "cell_type": "markdown",
   "id": "f8d7342d-4a69-4bc0-85a9-e947d48c00ff",
   "metadata": {},
   "source": [
    "<center>  \n",
    "<img src= \"https://www.bing.com/search?q=logo%20python&pc=0P453&ptag=C999ABAE753BAF6&form=PCF444&conlogo=CT3210127\" width=\"100px\" >\n",
    "</center>\n",
    "<br>\n",
    "<b>Cell</b> di Jupyter ada 2 jenis:\n",
    "<ol>\n",
    "        <li>MarkDown (M)\n",
    "        <li>Code (Y)</li>\n",
    "</ol>"
   ]
  },
  {
   "cell_type": "markdown",
   "id": "9b2568d6-d50c-434e-89b1-9dc07666dd61",
   "metadata": {},
   "source": [
    "Cara menambahkan cell ada 2 :\n",
    "<uL>\n",
    "    <Li>A (Above) Di atas cell</Li>\n",
    "    <Li>B (Below) Di atas cell</Li>\n",
    "</uL>"
   ]
  },
  {
   "cell_type": "markdown",
   "id": "23b51d20-43ec-421c-8430-f386ad5440fd",
   "metadata": {},
   "source": [
    "<table>\n",
    "    <tr>\n",
    "        <td>NIM</td>\n",
    "        <td>:</td>\n",
    "        <td>20240040074</td>\n",
    "    </tr>\n",
    "    <tr>\n",
    "        <td>Nama</td>\n",
    "        <td>:</td>\n",
    "        <td>Ade Parhan setiawan</td>\n",
    "    </tr>\n",
    "    <tr>\n",
    "        <td>NIM</td>\n",
    "        <td>:</td>\n",
    "        <td>20240040074</td>\n",
    "    </tr>\n",
    "</table>"
   ]
  },
  {
   "cell_type": "code",
   "execution_count": 16,
   "id": "f87fad0b-20f4-4d1d-b28d-1a0c385abb0d",
   "metadata": {},
   "outputs": [
    {
     "name": "stdout",
     "output_type": "stream",
     "text": [
      "Python is very easy\n",
      "Sekarang hari jum'at\n",
      "Deklarasi Variable  \"A\"\n",
      "5\n"
     ]
    },
    {
     "ename": "TypeError",
     "evalue": "unsupported operand type(s) for +: 'int' and 'str'",
     "output_type": "error",
     "traceback": [
      "\u001b[1;31m---------------------------------------------------------------------------\u001b[0m",
      "\u001b[1;31mTypeError\u001b[0m                                 Traceback (most recent call last)",
      "Cell \u001b[1;32mIn[16], line 8\u001b[0m\n\u001b[0;32m      6\u001b[0m number\n\u001b[0;32m      7\u001b[0m \u001b[38;5;28mint\u001b[39m (number) \u001b[38;5;241m+\u001b[39m \u001b[38;5;241m10\u001b[39m\n\u001b[1;32m----> 8\u001b[0m number \u001b[38;5;241m+\u001b[39m \u001b[38;5;124m\"\u001b[39m\u001b[38;5;124m4\u001b[39m\u001b[38;5;124m\"\u001b[39m\n",
      "\u001b[1;31mTypeError\u001b[0m: unsupported operand type(s) for +: 'int' and 'str'"
     ]
    }
   ],
   "source": [
    "print (\"Python is very easy\")\n",
    "print (\"Sekarang hari jum'at\")\n",
    "print ('Deklarasi Variable  \"A\"')\n",
    "number = 5\n",
    "print (number)\n",
    "number\n",
    "int (number) + 10\n",
    "number + \"4\""
   ]
  }
 ],
 "metadata": {
  "kernelspec": {
   "display_name": "Python [conda env:base] *",
   "language": "python",
   "name": "conda-base-py"
  },
  "language_info": {
   "codemirror_mode": {
    "name": "ipython",
    "version": 3
   },
   "file_extension": ".py",
   "mimetype": "text/x-python",
   "name": "python",
   "nbconvert_exporter": "python",
   "pygments_lexer": "ipython3",
   "version": "3.12.7"
  }
 },
 "nbformat": 4,
 "nbformat_minor": 5
}
